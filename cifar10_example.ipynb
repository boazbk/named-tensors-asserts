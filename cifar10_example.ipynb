{
  "cells": [
    {
      "cell_type": "markdown",
      "metadata": {
        "id": "zhwK2e16Id3x"
      },
      "source": [
        "# Assertions about named dimensions in pytorch\n",
        "\n",
        "[Open this in colab](https://githubtocolab.com/boazbk/named-tensors-asserts/blob/main/cifar10_example.ipynb)\n",
        "\n",
        "This is a demonstration of a small library to make assertions about tensor and model dimensions in pytorch\n",
        "\n",
        "__General idea:__\n",
        "We write: \n",
        "```python\n",
        "T &nt // \"batch=1024, channels=3, height=32, width=32\" \n",
        "```\n",
        "\n",
        "to assert that `T`'s shape is `(1024,3,32,32)` and to update the global\n",
        "named dimensions batch, channels,height, width to these values.\n",
        "\n",
        "We can access these with nt.batch, nt.width etc\n",
        "In future declarations we can write expressions such as: \n",
        "```python\n",
        "Q &nt // \"batch, channels*(height+1), width\"\n",
        "```\n",
        "\n",
        "To say that a model maps tensors with dimensions `['batch','width','height','channels']` to tensors with dimensions `['batch','output']`\n",
        "\n",
        "We we write: \n",
        "\n",
        "```python\n",
        "model &nt // \"batch, width, height, channels -> batch, output\"\n",
        "```"
      ]
    },
    {
      "cell_type": "code",
      "execution_count": 1,
      "metadata": {
        "id": "tgaFAm8yInt2"
      },
      "outputs": [],
      "source": [
        "# Uncomment for colab\n",
        "!wget https://raw.githubusercontent.com/boazbk/named-tensors-asserts/main/named_asserts.py -O named_asserts.py"
      ]
    },
    {
      "cell_type": "code",
      "execution_count": 2,
      "metadata": {
        "colab": {
          "base_uri": "https://localhost:8080/"
        },
        "id": "xUTnmz0VIz7g",
        "outputId": "915662f9-d02f-4448-e008-4285ab6133e9"
      },
      "outputs": [
        {
          "output_type": "stream",
          "name": "stderr",
          "text": [
            "Warning: einops not available, some functionality will be disabled\n"
          ]
        }
      ],
      "source": [
        "%run named_asserts.py"
      ]
    },
    {
      "cell_type": "markdown",
      "metadata": {
        "id": "8dTrlk0NIUL2"
      },
      "source": [
        "We use the [Pytorch CIFAR-10 tutorial](https://pytorch.org/tutorials/beginner/blitz/cifar10_tutorial.html) as our example"
      ]
    },
    {
      "cell_type": "code",
      "execution_count": 3,
      "metadata": {
        "id": "4ahUx3W2IUL-"
      },
      "outputs": [],
      "source": [
        "import torch\n",
        "import torchvision\n",
        "import torchvision.transforms as transforms"
      ]
    },
    {
      "cell_type": "code",
      "execution_count": 4,
      "metadata": {
        "colab": {
          "base_uri": "https://localhost:8080/"
        },
        "id": "TzkQ7OY_IUMD",
        "outputId": "de803f3e-4434-42e2-8584-78942020bf6c"
      },
      "outputs": [
        {
          "output_type": "stream",
          "name": "stdout",
          "text": [
            "Files already downloaded and verified\n",
            "Files already downloaded and verified\n"
          ]
        }
      ],
      "source": [
        "#hack https://github.com/pytorch/vision/issues/5039\n",
        "import ssl\n",
        "ssl._create_default_https_context = ssl._create_unverified_context\n",
        "\n",
        "transform = transforms.Compose(\n",
        "    [transforms.ToTensor(),\n",
        "     transforms.Normalize((0.5, 0.5, 0.5), (0.5, 0.5, 0.5))])\n",
        "\n",
        "batch_size = 4\n",
        "\n",
        "trainset = torchvision.datasets.CIFAR10(root='./data', train=True,\n",
        "                                        download=True, transform=transform)\n",
        "trainloader = torch.utils.data.DataLoader(trainset, batch_size=batch_size,\n",
        "                                          shuffle=True, num_workers=2)\n",
        "\n",
        "testset = torchvision.datasets.CIFAR10(root='./data', train=False,\n",
        "                                       download=True, transform=transform)\n",
        "testloader = torch.utils.data.DataLoader(testset, batch_size=batch_size,\n",
        "                                         shuffle=False, num_workers=2)\n",
        "\n",
        "classes = ('plane', 'car', 'bird', 'cat',\n",
        "           'deer', 'dog', 'frog', 'horse', 'ship', 'truck')"
      ]
    },
    {
      "cell_type": "markdown",
      "metadata": {
        "id": "Jawf4wBiIUMF"
      },
      "source": [
        "Let us show some of the training images, for fun.\n",
        "\n"
      ]
    },
    {
      "cell_type": "code",
      "execution_count": 5,
      "metadata": {
        "id": "DEEBgiAUIUMH"
      },
      "outputs": [],
      "source": [
        "import matplotlib.pyplot as plt\n",
        "import numpy as np\n",
        "%matplotlib inline\n",
        "\n",
        "# functions to show an image\n",
        "\n",
        "def imshow(img):\n",
        "    img = img / 2 + 0.5     # unnormalize\n",
        "    npimg = img.numpy()\n",
        "    plt.imshow(np.transpose(npimg, (1, 2, 0)))\n",
        "    plt.show()\n",
        "\n"
      ]
    },
    {
      "cell_type": "code",
      "execution_count": 6,
      "metadata": {
        "id": "caKr1a8hw7pz"
      },
      "outputs": [],
      "source": [
        "# get some random training images\n",
        "dataiter = iter(trainloader)\n",
        "images, labels = dataiter.next() "
      ]
    },
    {
      "cell_type": "code",
      "execution_count": 7,
      "metadata": {
        "id": "QTtT3D9Yw7p1",
        "outputId": "c090a580-afe4-4cf9-9549-b12a3088678b",
        "colab": {
          "base_uri": "https://localhost:8080/",
          "height": 155
        }
      },
      "outputs": [
        {
          "output_type": "display_data",
          "data": {
            "text/plain": [
              "<Figure size 432x288 with 1 Axes>"
            ],
            "image/png": "[encoded data removed]"
          },
          "metadata": {
            "needs_background": "light"
          }
        },
        {
          "output_type": "stream",
          "name": "stdout",
          "text": [
            "bird  horse truck deer \n"
          ]
        }
      ],
      "source": [
        "# show images\n",
        "imshow(torchvision.utils.make_grid(images))\n",
        "# print labels\n",
        "print(' '.join(f'{classes[labels[j]]:5s}' for j in range(batch_size)))"
      ]
    },
    {
      "cell_type": "markdown",
      "source": [
        "We can now assert that images are of the right format, and also use the opportunity to give some names to the dimensions"
      ],
      "metadata": {
        "id": "ltlDcxCKxY3-"
      }
    },
    {
      "cell_type": "code",
      "execution_count": 8,
      "metadata": {
        "id": "NkdsQ4KWw7p2",
        "outputId": "06727eef-e612-4406-dc0d-56781c86f55a",
        "colab": {
          "base_uri": "https://localhost:8080/"
        }
      },
      "outputs": [
        {
          "output_type": "stream",
          "name": "stderr",
          "text": [
            "Updating batch to 4\n",
            "Updating channels to 3\n",
            "Updating height to 32\n",
            "Updating width to 32\n"
          ]
        },
        {
          "output_type": "execute_result",
          "data": {
            "text/plain": [
              "{'batch': 4, 'channels': 3, 'height': 32, 'width': 32}"
            ]
          },
          "metadata": {},
          "execution_count": 8
        }
      ],
      "source": [
        "images &nt // \"(batch=4, channels=3, height=32, width =32)\"\n",
        "nt.dims"
      ]
    },
    {
      "cell_type": "markdown",
      "metadata": {
        "id": "LX7Sjv5WIUMK"
      },
      "source": [
        "## Defining a model with assertions"
      ]
    },
    {
      "cell_type": "code",
      "execution_count": 9,
      "metadata": {
        "id": "0_gfPYVCIUMM",
        "outputId": "6fb2501a-5fef-4d83-eef7-1aaf5f6b14cb",
        "colab": {
          "base_uri": "https://localhost:8080/"
        }
      },
      "outputs": [
        {
          "output_type": "stream",
          "name": "stderr",
          "text": [
            "Updating channel1 to 6\n",
            "Updating conv1h to 28\n",
            "Updating conv1w to 28\n",
            "Updating pool1h to 14\n",
            "Updating pool1w to 14\n",
            "Updating channel2 to 16\n",
            "Updating conv2h to 10\n",
            "Updating conv2w to 10\n"
          ]
        },
        {
          "output_type": "execute_result",
          "data": {
            "text/plain": [
              "{'batch': 4,\n",
              " 'channel1': 6,\n",
              " 'channel2': 16,\n",
              " 'channels': 3,\n",
              " 'conv1h': 28,\n",
              " 'conv1w': 28,\n",
              " 'conv2h': 10,\n",
              " 'conv2w': 10,\n",
              " 'height': 32,\n",
              " 'pool1h': 14,\n",
              " 'pool1w': 14,\n",
              " 'pool2h': 5,\n",
              " 'pool2w': 5,\n",
              " 'width': 32}"
            ]
          },
          "metadata": {},
          "execution_count": 9
        }
      ],
      "source": [
        "import torch.nn as nn\n",
        "import torch.nn.functional as F\n",
        "\n",
        "#From https://discuss.pytorch.org/t/utility-function-for-calculating-the-shape-of-a-conv-output/11173/5\n",
        "def conv_output_shape(h_,w_, kernel_size=1, stride=1, pad=0, dilation=1):\n",
        "    from math import floor\n",
        "    if type(kernel_size) is not tuple:\n",
        "        kernel_size = (kernel_size, kernel_size)\n",
        "    h = floor( ((h_ + (2 * pad) - ( dilation * (kernel_size[0] - 1) ) - 1 )/ stride) + 1)\n",
        "    w = floor( ((w_ + (2 * pad) - ( dilation * (kernel_size[1] - 1) ) - 1 )/ stride) + 1)\n",
        "    return h, w\n",
        "\n",
        "\n",
        "class Net(nn.Module):\n",
        "    def __init__(self):\n",
        "        super().__init__()\n",
        "        a,b = conv_output_shape(nt.height,nt.width,5)\n",
        "        self.conv1 = nn.Conv2d(3, 6, 5) &nt // \"batch,channels,width,height -> batch, channel1=6 ,conv1h=a, conv1w=b\"\n",
        "        poolh,poolw = conv_output_shape(nt.conv1h,nt.conv1w,2,2)\n",
        "        self.pool = nn.MaxPool2d(2, 2) &nt // \"batch, channel1, conv1h,conv1w -> batch, channel1,pool1h=poolh,pool1w=poolw\"\n",
        "        \n",
        "        a,b = conv_output_shape(nt.pool1h,nt.pool1w,5)\n",
        "        self.conv2 = nn.Conv2d(6, 16, 5) &nt // \"batch, channel1, poolh,poolw -> batch, channel2=16, conv2h = a, conv2w=b\"\n",
        "        nt.pool2h,nt.pool2w = conv_output_shape(nt.conv2h,nt.conv2w,2,2)\n",
        "        self.fc1 = nn.Linear(16 * 5 * 5, 120)  &nt // \"batch, channel2*pool2h*pool2w -> batch, 120\"\n",
        "        self.fc2 = nn.Linear(120, 84) &nt // \"batch, 120 -> batch, 84\"\n",
        "        self.fc3 = nn.Linear(84, 10) &nt // \"batch, 84 -> batch, 10\"\n",
        "\n",
        "    def forward(self, x):\n",
        "        x &nt // \"batch, channels, height, width\"\n",
        "        x = self.pool(F.relu(self.conv1(x))) &nt // \"batch, channel1,pool1h,pool1w\" \n",
        "        x = self.pool(F.relu(self.conv2(x))) &nt // \"batch, channel2,pool2h,pool2w\"\n",
        "        x = torch.flatten(x, 1) &nt // \"batch, channel2*pool2h*pool2w\" # flatten all dimensions except batch \n",
        "        x = F.relu(self.fc1(x)) &nt // \"batch, 120\"\n",
        "        x = F.relu(self.fc2(x)) &nt // \"batch, 84\"\n",
        "        x = self.fc3(x) &nt // \"batch, 10\"\n",
        "        return x\n",
        "\n",
        "\n",
        "net = Net()\n",
        "net(images)\n",
        "nt.dims"
      ]
    },
    {
      "cell_type": "markdown",
      "metadata": {
        "id": "4BoXUhUuw7p6"
      },
      "source": [
        "We can supress the assertions by using `with skip_asserts():` in the code. We can also use `with skip_asserts(flag)` to skip the assertions if and only if the `flag` is True."
      ]
    },
    {
      "cell_type": "code",
      "execution_count": 10,
      "metadata": {
        "id": "hZctUgOZw7p7"
      },
      "outputs": [],
      "source": [
        "x = torch.randn(1, 3, 32, 32)\n",
        "with skip_asserts():\n",
        "    x &nt // \"batch, channels, height, width+1\""
      ]
    },
    {
      "cell_type": "code",
      "execution_count": 11,
      "metadata": {
        "id": "Y4_gSBMPw7p7",
        "outputId": "ea4e48fd-46aa-4a21-bd42-7a38ac4b0adf",
        "colab": {
          "base_uri": "https://localhost:8080/"
        }
      },
      "outputs": [
        {
          "output_type": "stream",
          "name": "stdout",
          "text": [
            "Dimension expression batch, channels, height, width+1 must have the same dimensions as the tensor ([[[[-3.3318e-01,  2.6058e-0.., got (4, 3, 32, 33) vs torch.Size([1, 3, 32, 32])\n"
          ]
        }
      ],
      "source": [
        "try:\n",
        "    x &nt // \"batch, channels, height, width+1\"\n",
        "except AssertionError as e:\n",
        "    print(e)"
      ]
    },
    {
      "cell_type": "markdown",
      "metadata": {
        "id": "UXz-z_UCIUMN"
      },
      "source": [
        "#### Training   \n",
        "\n",
        "We can also train the network. For actual training, I suggest turning assertions off"
      ]
    },
    {
      "cell_type": "code",
      "execution_count": 12,
      "metadata": {
        "id": "h8138LRdIUMO"
      },
      "outputs": [],
      "source": [
        "import torch.optim as optim\n",
        "\n",
        "def train(net):\n",
        "    criterion = nn.CrossEntropyLoss()\n",
        "    optimizer = optim.SGD(net.parameters(), lr=0.001, momentum=0.9)\n",
        "    for epoch in range(2):  # loop over the dataset multiple times\n",
        "\n",
        "        running_loss = 0.0\n",
        "        for i, data in enumerate(trainloader, 0):\n",
        "            # get the inputs; data is a list of [inputs, labels]\n",
        "            inputs, labels = data\n",
        "\n",
        "            # zero the parameter gradients\n",
        "            optimizer.zero_grad()\n",
        "\n",
        "            # forward + backward + optimize\n",
        "            outputs = net(inputs)\n",
        "            loss = criterion(outputs, labels)\n",
        "            loss.backward()\n",
        "            optimizer.step()\n",
        "\n",
        "            # print statistics\n",
        "            running_loss += loss.item()\n",
        "            if i % 2000 == 1999:    # print every 2000 mini-batches\n",
        "                print(f'[{epoch + 1}, {i + 1:5d}] loss: {running_loss / 2000:.3f}')\n",
        "                running_loss = 0.0\n",
        "\n",
        "    print('Finished Training')\n"
      ]
    },
    {
      "cell_type": "code",
      "execution_count": 13,
      "metadata": {
        "id": "ZM8Zxtj-w7p9"
      },
      "outputs": [],
      "source": [
        "net1 , net2 = Net(), Net()"
      ]
    },
    {
      "cell_type": "markdown",
      "metadata": {
        "id": "m8GQpegDw7p-"
      },
      "source": [
        "Let's train with and without assertions to see the difference (this is on a CPU so quite slow)"
      ]
    },
    {
      "cell_type": "code",
      "execution_count": 14,
      "metadata": {
        "id": "MmpcGdFzw7p_",
        "outputId": "da48ecdc-c893-464e-b552-a71f5d8347b4",
        "colab": {
          "base_uri": "https://localhost:8080/"
        }
      },
      "outputs": [
        {
          "output_type": "stream",
          "name": "stdout",
          "text": [
            "[1,  2000] loss: 2.193\n",
            "[1,  4000] loss: 1.869\n",
            "[1,  6000] loss: 1.651\n",
            "[1,  8000] loss: 1.557\n",
            "[1, 10000] loss: 1.502\n",
            "[1, 12000] loss: 1.461\n",
            "[2,  2000] loss: 1.402\n",
            "[2,  4000] loss: 1.377\n",
            "[2,  6000] loss: 1.339\n",
            "[2,  8000] loss: 1.308\n",
            "[2, 10000] loss: 1.298\n",
            "[2, 12000] loss: 1.265\n",
            "Finished Training\n",
            "CPU times: user 2min 39s, sys: 13.5 s, total: 2min 53s\n",
            "Wall time: 3min 17s\n"
          ]
        }
      ],
      "source": [
        "%%time\n",
        "train(net1)"
      ]
    },
    {
      "cell_type": "code",
      "execution_count": 15,
      "metadata": {
        "id": "AjpBAmh7w7p_",
        "outputId": "8c672c0c-14bc-4b91-eb71-3543bedf55cf",
        "colab": {
          "base_uri": "https://localhost:8080/"
        }
      },
      "outputs": [
        {
          "output_type": "stream",
          "name": "stdout",
          "text": [
            "[1,  2000] loss: 2.184\n",
            "[1,  4000] loss: 1.855\n",
            "[1,  6000] loss: 1.669\n",
            "[1,  8000] loss: 1.584\n",
            "[1, 10000] loss: 1.505\n",
            "[1, 12000] loss: 1.461\n",
            "[2,  2000] loss: 1.421\n",
            "[2,  4000] loss: 1.395\n",
            "[2,  6000] loss: 1.342\n",
            "[2,  8000] loss: 1.356\n",
            "[2, 10000] loss: 1.325\n",
            "[2, 12000] loss: 1.297\n",
            "Finished Training\n",
            "CPU times: user 2min 18s, sys: 13.3 s, total: 2min 32s\n",
            "Wall time: 2min 50s\n"
          ]
        }
      ],
      "source": [
        "%%time\n",
        "with skip_asserts():\n",
        "    train(net2)"
      ]
    },
    {
      "cell_type": "markdown",
      "source": [
        "We can compare this with the time to train a model with all assertions commented out"
      ],
      "metadata": {
        "id": "yVdTHm6PykX5"
      }
    },
    {
      "cell_type": "code",
      "source": [
        "class Net_No_Assertions(nn.Module):\n",
        "    def __init__(self):\n",
        "        super().__init__()\n",
        "        #a,b = conv_output_shape(nt.height,nt.width,5)\n",
        "        self.conv1 = nn.Conv2d(3, 6, 5) # &nt // \"batch,channels,width,height -> batch, channel1=6 ,conv1h=a, conv1w=b\"\n",
        "        #poolh,poolw = conv_output_shape(nt.conv1h,nt.conv1w,2,2)\n",
        "        self.pool = nn.MaxPool2d(2, 2) #&nt // \"batch, channel1, conv1h,conv1w -> batch, channel1,pool1h=poolh,pool1w=poolw\"\n",
        "        \n",
        "        #a,b = conv_output_shape(nt.pool1h,nt.pool1w,5)\n",
        "        self.conv2 = nn.Conv2d(6, 16, 5) #&nt // \"batch, channel1, poolh,poolw -> batch, channel2=16, conv2h = a, conv2w=b\"\n",
        "        #nt.pool2h,nt.pool2w = conv_output_shape(nt.conv2h,nt.conv2w,2,2)\n",
        "        self.fc1 = nn.Linear(16 * 5 * 5, 120) # &nt // \"batch, channel2*pool2h*pool2w -> batch, 120\"\n",
        "        self.fc2 = nn.Linear(120, 84) # &nt // \"batch, 120 -> batch, 84\"\n",
        "        self.fc3 = nn.Linear(84, 10) # &nt // \"batch, 84 -> batch, 10\"\n",
        "\n",
        "    def forward(self, x):\n",
        "        x # &nt // \"batch, channels, height, width\"\n",
        "        x = self.pool(F.relu(self.conv1(x))) #&nt // \"batch, channel1,pool1h,pool1w\" \n",
        "        x = self.pool(F.relu(self.conv2(x))) #&nt // \"batch, channel2,pool2h,pool2w\"\n",
        "        x = torch.flatten(x, 1) #&nt // \"batch, channel2*pool2h*pool2w\" # flatten all dimensions except batch \n",
        "        x = F.relu(self.fc1(x)) #&nt // \"batch, 120\"\n",
        "        x = F.relu(self.fc2(x)) #&nt // \"batch, 84\"\n",
        "        x = self.fc3(x) #&nt // \"batch, 10\"\n",
        "        return x\n"
      ],
      "metadata": {
        "id": "v7eOjt_SyNWe"
      },
      "execution_count": 16,
      "outputs": []
    },
    {
      "cell_type": "code",
      "source": [
        "%%time\n",
        "train(Net_No_Assertions())"
      ],
      "metadata": {
        "id": "k8LPCXL3ygll",
        "outputId": "12cb1857-f1e6-4f57-dbb0-48bebe4c71ae",
        "colab": {
          "base_uri": "https://localhost:8080/"
        }
      },
      "execution_count": 17,
      "outputs": [
        {
          "output_type": "stream",
          "name": "stdout",
          "text": [
            "[1,  2000] loss: 2.215\n",
            "[1,  4000] loss: 1.861\n",
            "[1,  6000] loss: 1.669\n",
            "[1,  8000] loss: 1.573\n",
            "[1, 10000] loss: 1.485\n",
            "[1, 12000] loss: 1.458\n",
            "[2,  2000] loss: 1.376\n",
            "[2,  4000] loss: 1.352\n",
            "[2,  6000] loss: 1.339\n",
            "[2,  8000] loss: 1.310\n",
            "[2, 10000] loss: 1.279\n",
            "[2, 12000] loss: 1.256\n",
            "Finished Training\n",
            "CPU times: user 1min 55s, sys: 10.1 s, total: 2min 5s\n",
            "Wall time: 2min 25s\n"
          ]
        }
      ]
    },
    {
      "cell_type": "markdown",
      "source": [
        "We see that there is some benefit to actually commenting out assertions in the `forward` function. Should see if there are ways to optimize things more. (Should also run more tests of multiple runs, various models, GPU vs CPU, etc..)"
      ],
      "metadata": {
        "id": "xatKStCpzrVU"
      }
    },
    {
      "cell_type": "markdown",
      "metadata": {
        "id": "DncH4YkEIUMT"
      },
      "source": [
        "### Testing\n",
        "\n",
        "For fun we can also test the network"
      ]
    },
    {
      "cell_type": "code",
      "execution_count": 18,
      "metadata": {
        "id": "10-MKUXrIUMU",
        "outputId": "6e48fa02-e5dc-4162-913e-c49f5c7593c5",
        "colab": {
          "base_uri": "https://localhost:8080/",
          "height": 155
        }
      },
      "outputs": [
        {
          "output_type": "display_data",
          "data": {
            "text/plain": [
              "<Figure size 432x288 with 1 Axes>"
            ],
            "image/png": "[encoded data removed]"
          },
          "metadata": {
            "needs_background": "light"
          }
        },
        {
          "output_type": "stream",
          "name": "stdout",
          "text": [
            "GroundTruth:  cat   ship  ship  plane\n"
          ]
        }
      ],
      "source": [
        "dataiter = iter(testloader)\n",
        "images, labels = dataiter.next()\n",
        "\n",
        "# print images\n",
        "imshow(torchvision.utils.make_grid(images))\n",
        "print('GroundTruth: ', ' '.join(f'{classes[labels[j]]:5s}' for j in range(4)))"
      ]
    },
    {
      "cell_type": "markdown",
      "metadata": {
        "id": "Sk-OTLbNIUMW"
      },
      "source": [
        "Okay, now let us see what the neural network thinks these examples above are:\n",
        "\n"
      ]
    },
    {
      "cell_type": "code",
      "execution_count": 19,
      "metadata": {
        "id": "Aa8vUNnEIUMY",
        "outputId": "f2c9395b-d8dc-4107-8e35-710efaa15816",
        "colab": {
          "base_uri": "https://localhost:8080/"
        }
      },
      "outputs": [
        {
          "output_type": "stream",
          "name": "stdout",
          "text": [
            "Predicted:  cat   ship  ship  ship \n"
          ]
        }
      ],
      "source": [
        "outputs = net1(images)\n",
        "_, predicted = torch.max(outputs, 1)\n",
        "\n",
        "print('Predicted: ', ' '.join(f'{classes[predicted[j]]:5s}'\n",
        "                              for j in range(4)))"
      ]
    },
    {
      "cell_type": "code",
      "source": [
        "# Compare with untrained network\n",
        "outputs = Net()(images)\n",
        "_, predicted = torch.max(outputs, 1)\n",
        "\n",
        "print('Predicted: ', ' '.join(f'{classes[predicted[j]]:5s}'\n",
        "                              for j in range(4)))"
      ],
      "metadata": {
        "id": "8ILotAp_zdvv",
        "outputId": "02c80dc6-4147-497f-c083-b020535abdd6",
        "colab": {
          "base_uri": "https://localhost:8080/"
        }
      },
      "execution_count": 20,
      "outputs": [
        {
          "output_type": "stream",
          "name": "stdout",
          "text": [
            "Predicted:  plane plane plane plane\n"
          ]
        }
      ]
    }
  ],
  "metadata": {
    "colab": {
      "name": "cifar10_named_asserts.ipynb",
      "provenance": []
    },
    "kernelspec": {
      "display_name": "Python 3",
      "language": "python",
      "name": "python3"
    },
    "language_info": {
      "codemirror_mode": {
        "name": "ipython",
        "version": 3
      },
      "file_extension": ".py",
      "mimetype": "text/x-python",
      "name": "python",
      "nbconvert_exporter": "python",
      "pygments_lexer": "ipython3",
      "version": "3.8.12"
    }
  },
  "nbformat": 4,
  "nbformat_minor": 0
}